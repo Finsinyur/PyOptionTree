{
 "cells": [
  {
   "cell_type": "markdown",
   "id": "90d9c99e",
   "metadata": {},
   "source": [
    "American options are similar to european options, with the only difference that holders of option have the right, but not obligation, to exercise their option before maturity date. Due to this merit, American options belong to a different category of path-dependent options since they depend on the path of the underlying asset price prior to the option expiry date. (The Wiley Finance Series – Problem and Solutions in mathematical finance vol. 2, Eric Chin, Dian Nel, Sverrir Olafsson, pg 270) \n",
    "\n",
    "In other words, valuation of american options requires analytical tools such as binomial tree. \n",
    "(Numerical methods such as “Optimal Stopping Time Formulation” and “Linear Complementarity Formulation” are not discussed here”)\n",
    "\n",
    "The conception of binomial tree consists of a lattice, representing the movements of stock price, where its option is priced by working backwards (backwardation) through the lattice. This accounts for the possibility of early exercise. At each node, the value of option is the maximum of the value of option if it’s held to expiration and the gin that could be realised with immediate exercise. (The Wiley Finance Series – Problem and Solutions in mathematical finance vol. 2, Eric Chin, Dian Nel, Sverrir Olafsson, pg 270)\n",
    "\n",
    "$$\\ C_{am}(S_t, t; K, T) = max\\{S_t - K, e^{-r{\\Delta}t}[\\, {\\pi}C_{am}(uS_t,t + {\\Delta}t; K, T) + (1-\\pi)C_{am}(dS_t, t + {\\Delta}t; K, T)]\\, \\} $$\n",
    "\n",
    "Since american options could be exercised any time before expiry, this inherent quality is flexibility to investors and portfolio managers and hence american options are perceived to be far more valuable than their “european” counterparts, given the same strike and maturity date. This additional value is captured by the time value parameter in the following equation.\n",
    "\n",
    "Value of american option: Intrinsic value( = S-K and K-S) + Time value \n",
    "\n"
   ]
  }
 ],
 "metadata": {
  "kernelspec": {
   "display_name": "Python 3 (ipykernel)",
   "language": "python",
   "name": "python3"
  },
  "language_info": {
   "codemirror_mode": {
    "name": "ipython",
    "version": 3
   },
   "file_extension": ".py",
   "mimetype": "text/x-python",
   "name": "python",
   "nbconvert_exporter": "python",
   "pygments_lexer": "ipython3",
   "version": "3.9.12"
  }
 },
 "nbformat": 4,
 "nbformat_minor": 5
}
